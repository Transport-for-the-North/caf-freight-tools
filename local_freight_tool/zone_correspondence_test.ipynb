{
 "cells": [
  {
   "cell_type": "code",
   "execution_count": 1,
   "id": "sacred-continent",
   "metadata": {},
   "outputs": [],
   "source": [
    "import geopandas as gpd"
   ]
  },
  {
   "cell_type": "code",
   "execution_count": 8,
   "id": "dried-examination",
   "metadata": {},
   "outputs": [],
   "source": [
    "zone_1_path = 'C:/WSP_projects/Freight/zone_shapefiles/GBFM/Zones.shp'\n",
    "zone_2_path = 'C:/WSP_projects/Freight/zone_shapefiles/NoHAM/noham_zones_freeze_2.10.shp'\n",
    "outpath = 'C:/WSP_projects/Freight/local_freight_tool/Outputs/Zone correspondence test'\n",
    "zone_1_name = 'gbfm'\n",
    "zone_2_name = 'noham'"
   ]
  },
  {
   "cell_type": "code",
   "execution_count": 9,
   "id": "willing-technician",
   "metadata": {},
   "outputs": [],
   "source": [
    "gbfm_lookup = {'ID': 'zone_id'}\n",
    "noham_lookup = {\n",
    "    'zone_id': 'empty',\n",
    "    'unique_id': 'zone_id'\n",
    "    }"
   ]
  },
  {
   "cell_type": "code",
   "execution_count": 10,
   "id": "robust-crown",
   "metadata": {},
   "outputs": [],
   "source": [
    "zone_1 = gpd.read_file(zone_1_path)\n",
    "zone_2 = gpd.read_file(zone_2_path)"
   ]
  },
  {
   "cell_type": "code",
   "execution_count": 11,
   "id": "handmade-clark",
   "metadata": {},
   "outputs": [],
   "source": [
    "zone_list = [zone_1, zone_2]\n",
    "zone_names = [zone_1_name, zone_2_name]"
   ]
  },
  {
   "cell_type": "code",
   "execution_count": 15,
   "id": "flying-width",
   "metadata": {},
   "outputs": [
    {
     "name": "stdout",
     "output_type": "stream",
     "text": [
      "no lookup for this zone system, need to know column names\n",
      "no lookup for this zone system, need to know column names\n"
     ]
    }
   ],
   "source": [
    "for i in range(2):\n",
    "        \n",
    "    if 'ID' in zone_list[i].columns:\n",
    "        # this uses GBFM zone ID column name\n",
    "        zone_list[i] = zone_list[i].rename(columns=gbfm_lookup)\n",
    "    elif 'unique_id' in zone_list[i].columns:\n",
    "        # this uses NoHAM zone ID column name\n",
    "        zone_list[i] = zone_list[i].rename(columns=noham_lookup)\n",
    "    else:\n",
    "        print('no lookup for this zone system, need to know column names')\n",
    "\n",
    "    zone_list[i] = zone_list[i].rename(\n",
    "        columns = {'zone_id': f'{zone_names[i]}_zone_id'}\n",
    "    )\n",
    "    zone_list[i][f'{zone_names[i]}_area'] = zone_list[i].area\n",
    "\n",
    "    # set gbfm crs data to same as noham crs data (they should be the\n",
    "    # same but gbfm data is incomplete)\n",
    "    # TODO might change this to just set all to this crs by default\n",
    "    if not zone_list[i].crs:\n",
    "        zone_list[i].crs = 'EPSG:27700'"
   ]
  },
  {
   "cell_type": "code",
   "execution_count": 18,
   "id": "ideal-method",
   "metadata": {},
   "outputs": [],
   "source": [
    "zone_overlay = gpd.overlay(zone_list[0], zone_list[1], how='intersection').reset_index()\n",
    "zone_overlay['intersection_area'] = zone_overlay.area"
   ]
  },
  {
   "cell_type": "code",
   "execution_count": 19,
   "id": "pending-scheme",
   "metadata": {},
   "outputs": [
    {
     "name": "stderr",
     "output_type": "stream",
     "text": [
      "<ipython-input-19-7a826ce4aa35>:3: SettingWithCopyWarning: \n",
      "A value is trying to be set on a copy of a slice from a DataFrame.\n",
      "Try using .loc[row_indexer,col_indexer] = value instead\n",
      "\n",
      "See the caveats in the documentation: https://pandas.pydata.org/pandas-docs/stable/user_guide/indexing.html#returning-a-view-versus-a-copy\n",
      "  spatial_zone_correspondence[f'{zone_names[0]}_to_{zone_names[1]}'] = (zone_overlay['intersection_area'] /\n",
      "<ipython-input-19-7a826ce4aa35>:5: SettingWithCopyWarning: \n",
      "A value is trying to be set on a copy of a slice from a DataFrame.\n",
      "Try using .loc[row_indexer,col_indexer] = value instead\n",
      "\n",
      "See the caveats in the documentation: https://pandas.pydata.org/pandas-docs/stable/user_guide/indexing.html#returning-a-view-versus-a-copy\n",
      "  spatial_zone_correspondence[f'{zone_names[1]}_to_{zone_names[0]}'] = (zone_overlay['intersection_area'] /\n"
     ]
    }
   ],
   "source": [
    "spatial_zone_correspondence = zone_overlay[[f'{zone_names[0]}_zone_id',\n",
    "                            f'{zone_names[1]}_zone_id']]\n",
    "spatial_zone_correspondence[f'{zone_names[0]}_to_{zone_names[1]}'] = (zone_overlay['intersection_area'] /\n",
    "                                                                    zone_overlay[f'{zone_names[0]}_area'])\n",
    "spatial_zone_correspondence[f'{zone_names[1]}_to_{zone_names[0]}'] = (zone_overlay['intersection_area'] /\n",
    "                                                                    zone_overlay[f'{zone_names[1]}_area'])"
   ]
  },
  {
   "cell_type": "code",
   "execution_count": null,
   "id": "alert-memory",
   "metadata": {},
   "outputs": [],
   "source": [
    "spatial_zone"
   ]
  }
 ],
 "metadata": {
  "kernelspec": {
   "display_name": "Python 3",
   "language": "python",
   "name": "python3"
  },
  "language_info": {
   "codemirror_mode": {
    "name": "ipython",
    "version": 3
   },
   "file_extension": ".py",
   "mimetype": "text/x-python",
   "name": "python",
   "nbconvert_exporter": "python",
   "pygments_lexer": "ipython3",
   "version": "3.9.1"
  }
 },
 "nbformat": 4,
 "nbformat_minor": 5
}
